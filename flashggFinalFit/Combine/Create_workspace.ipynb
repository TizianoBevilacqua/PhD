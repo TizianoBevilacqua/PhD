{
 "cells": [
  {
   "cell_type": "code",
   "execution_count": 2,
   "metadata": {},
   "outputs": [
    {
     "name": "stdout",
     "output_type": "stream",
     "text": [
      "Welcome to JupyROOT 6.12/07\n"
     ]
    }
   ],
   "source": [
    "import ROOT\n",
    "import argparse\n",
    "import os\n",
    "import ROOT\n",
    "import re"
   ]
  },
  {
   "cell_type": "code",
   "execution_count": 3,
   "metadata": {},
   "outputs": [
    {
     "name": "stdout",
     "output_type": "stream",
     "text": [
      "/work/bevila_t/HpC_Analysis/test_flashggfinalfit/CMSSW_10_2_13/src/flashggFinalFit\n"
     ]
    }
   ],
   "source": [
    "%%bash\n",
    "pwd"
   ]
  },
  {
   "cell_type": "code",
   "execution_count": 4,
   "metadata": {},
   "outputs": [],
   "source": [
    "workspace = ROOT.RooWorkspace(\"multipdf\",\"multipdf\") "
   ]
  },
  {
   "cell_type": "code",
   "execution_count": 7,
   "metadata": {},
   "outputs": [
    {
     "name": "stdout",
     "output_type": "stream",
     "text": [
      "\n",
      "RooWorkspace(cms_hgg_13TeV) cms_hgg_13TeV contents\n",
      "\n",
      "variables\n",
      "---------\n",
      "(CMS_hgg_mass,centralObjectWeight,intLumi,weight)\n",
      "\n",
      "datasets\n",
      "--------\n",
      "RooDataSet::Data_13TeV_WStest(CMS_hgg_mass,centralObjectWeight)\n",
      "\n",
      "RooRealVar::SqrtS = 13 C  L(-INF - +INF) // [TeV]\n",
      "RooRealVar::intLumi = 1000 C  L(0 - 1e+09) \n",
      "RooRealVar::CMS_hgg_mass = 122.788  L(100 - 180) B(160) \n",
      "RooRealVar::CMS_hgg_WStest_2017_13TeV_bkgshape_norm = 1  L(0 - +INF) \n"
     ]
    }
   ],
   "source": [
    "f   = ROOT.TFile.Open(\"../flashggFinalFit/higgs_dna_signals_2017/allData_2017.root\")\n",
    "win = f.Get(\"tagsDumper/cms_hgg_13TeV\")\n",
    "#sQr  = ROOT.RooRealVar(\"SqrtS\", \"SqrtS in TeV\", 13, -ROOT.RooNumber.infinity(), ROOT.RooNumber.infinity())\n",
    "sQr  = ROOT.RooRealVar(\"SqrtS\", \"SqrtS in TeV\", 13, \"TeV\")\n",
    "intL = win.var(\"intLumi\")\n",
    "mass = win.var(\"CMS_hgg_mass\")\n",
    "win.Print()\n",
    "sQr.Print()\n",
    "intL.Print()\n",
    "mass.Print()\n",
    "norm = ROOT.RooRealVar(\"CMS_hgg_WStest_2017_13TeV_bkgshape_norm\", \"normalization\", 1, 0, ROOT.RooNumber.infinity())\n",
    "norm.Print()"
   ]
  },
  {
   "cell_type": "code",
   "execution_count": 31,
   "metadata": {},
   "outputs": [
    {
     "name": "stdout",
     "output_type": "stream",
     "text": [
      "RooArgList:: = (env_pdf_0_2017_13TeV_bern5_p0_sq,env_pdf_0_2017_13TeV_bern5_p1_sq,env_pdf_0_2017_13TeV_bern5_p2_sq,env_pdf_0_2017_13TeV_bern5_p3_sq,env_pdf_0_2017_13TeV_bern5_p4_sq)\n"
     ]
    }
   ],
   "source": [
    "order = 5\n",
    "prefix = \"env_pdf_0_2017_13TeV_bern5\"\n",
    "params = {}\n",
    "prods = {}\n",
    "coeffList = ROOT.RooArgList()\n",
    "init_p = [0.5, 0.4, 0.3,0.2, 0.2, 0.1]\n",
    "for i in range(order):\n",
    "    name = '{}_p{}'.format(prefix, i)\n",
    "    param = ROOT.RooRealVar(name,name,init_p[i],-15.,15.)\n",
    "    form = ROOT.RooFormulaVar(name+\"_sq\", name+\"_sq\", \"@0*@0\", ROOT.RooArgList(param))\n",
    "    params[name] = param\n",
    "    prods[name] = form\n",
    "    coeffList.add(prods[name])\n",
    "coeffList.Print()\n",
    "bern = ROOT.RooBernsteinFast(order)(prefix,prefix,mass,coeffList)\n"
   ]
  },
  {
   "cell_type": "code",
   "execution_count": 32,
   "metadata": {},
   "outputs": [
    {
     "name": "stdout",
     "output_type": "stream",
     "text": [
      "RooDataSet::Data_13TeV_WStest[CMS_hgg_mass,centralObjectWeight,weight:weight] = 318710 entries (318710 weighted)\n",
      "RooDataSet::Data_13TeV_WStest[CMS_hgg_mass,weight:weight] = 222184 entries (222184 weighted)\n",
      "RooDataHist::Data_13TeV_WStest[CMS_hgg_mass] = 160 bins (318710 weights)\n"
     ]
    }
   ],
   "source": [
    "data = win.data(\"Data_13TeV_WStest\")\n",
    "blind_data = data.reduce(ROOT.RooArgSet(mass), \"CMS_hgg_mass>135||CMS_hgg_mass<115\")\n",
    "mass.setRange(\"left\", 100, 115)\n",
    "mass.setRange(\"right\", 135, 180)\n",
    "data.Print()\n",
    "blind_data.Print()\n",
    "dh = ROOT.RooDataHist(\"Data_13TeV_WStest\", \"Data_13TeV_WStest\", ROOT.RooArgSet(mass), data)\n",
    "dh.Print()"
   ]
  },
  {
   "cell_type": "code",
   "execution_count": 33,
   "metadata": {},
   "outputs": [
    {
     "data": {
      "text/plain": [
       "0"
      ]
     },
     "execution_count": 33,
     "metadata": {},
     "output_type": "execute_result"
    },
    {
     "name": "stdout",
     "output_type": "stream",
     "text": [
      "RooNLLVar::nll_env_pdf_0_2017_13TeV_bern5_Data_13TeV_WStest[ paramSet=(env_pdf_0_2017_13TeV_bern5_p0,env_pdf_0_2017_13TeV_bern5_p1,env_pdf_0_2017_13TeV_bern5_p2,env_pdf_0_2017_13TeV_bern5_p3,env_pdf_0_2017_13TeV_bern5_p4) ] = 1.3134e+06\n",
      "Minuit2Minimizer: Minimize with max-calls 2500 convergence for edm < 1 strategy 1\n",
      "MnSeedGenerator: for initial parameters FCN = 1313395.74624\n",
      "MnSeedGenerator: Initial state:   - FCN =    1313395.74624 Edm =      26637.2 NCalls =     31\n",
      "VariableMetric: start iterating until Edm is < 0.001\n",
      "VariableMetric: Initial state   - FCN =    1313395.74624 Edm =      26637.2 NCalls =     31\n",
      "VariableMetric: Iteration #   0 - FCN =    1313395.74624 Edm =      26637.2 NCalls =     31\n",
      "VariableMetric: Iteration #   1 - FCN =   1309427.766773 Edm =      4803.99 NCalls =     47\n",
      "VariableMetric: Iteration #   2 - FCN =   1308666.157521 Edm =      187.824 NCalls =     59\n",
      "VariableMetric: Iteration #   3 - FCN =   1308506.042857 Edm =      5.39014 NCalls =     70\n",
      "VariableMetric: Iteration #   4 - FCN =   1308494.604934 Edm =     0.679883 NCalls =     82\n",
      "VariableMetric: Iteration #   5 - FCN =   1308492.672171 Edm =     0.732098 NCalls =     94\n",
      "VariableMetric: Iteration #   6 - FCN =   1308490.213476 Edm =     0.423476 NCalls =    106\n",
      "VariableMetric: Iteration #   7 - FCN =   1308488.026029 Edm =      1.48607 NCalls =    120\n",
      "VariableMetric: Iteration #   8 - FCN =   1308482.663615 Edm =     0.935396 NCalls =    135\n",
      "VariableMetric: Iteration #   9 - FCN =   1308481.650308 Edm =     0.596942 NCalls =    147\n",
      "VariableMetric: Iteration #  10 - FCN =   1308481.173503 Edm =     0.256843 NCalls =    159\n",
      "VariableMetric: Iteration #  11 - FCN =   1308480.607376 Edm =    0.0450376 NCalls =    172\n",
      "VariableMetric: Iteration #  12 - FCN =   1308480.543724 Edm =   0.00225337 NCalls =    185\n",
      "VariableMetric: Iteration #  13 - FCN =   1308480.542049 Edm =    0.0001918 NCalls =    197\n",
      "VariableMetric: After Hessian   - FCN =   1308480.542049 Edm =  0.000176552 NCalls =    234\n",
      "VariableMetric: Iteration #  14 - FCN =   1308480.542049 Edm =  0.000176552 NCalls =    234\n",
      "Minuit2Minimizer : Valid minimum - status = 0\n",
      "FVAL  = 1308480.54204949131\n",
      "Edm   = 0.000176551816241668708\n",
      "Nfcn  = 234\n",
      "env_pdf_0_2017_13TeV_bern5_p0\t  = 0.502826\t +/-  0.0131919\t(limited)\n",
      "env_pdf_0_2017_13TeV_bern5_p1\t  = 0.57394\t +/-  0.0139283\t(limited)\n",
      "env_pdf_0_2017_13TeV_bern5_p2\t  = 0.257617\t +/-  0.0266282\t(limited)\n",
      "env_pdf_0_2017_13TeV_bern5_p3\t  = 0.350882\t +/-  0.0087567\t(limited)\n",
      "env_pdf_0_2017_13TeV_bern5_p4\t  = 0.248926\t +/-  0.00336865\t(limited)\n"
     ]
    }
   ],
   "source": [
    "#nll = bern.createNLL(data, ROOT.RooFit.Range(\"left,right\"))\n",
    "nll = bern.createNLL(data)\n",
    "nll.Print()\n",
    "minim = ROOT.RooMinimizer(nll)\n",
    "minim.minimize(\"Minuit2\",\"migrad\")"
   ]
  },
  {
   "cell_type": "code",
   "execution_count": 34,
   "metadata": {},
   "outputs": [],
   "source": [
    "#bern.Print(\"v\")\n",
    "#mass.setRange(\"left\", 100, 115)\n",
    "#mass.setRange(\"right\", 135, 180)\n",
    "#r_sig = bern.fitTo(data,  ROOT.RooFit.Save(ROOT.kTRUE), ROOT.RooFit.Range(\"left,right\"))\n",
    "#bern.Print(\"v\")"
   ]
  },
  {
   "cell_type": "code",
   "execution_count": 35,
   "metadata": {},
   "outputs": [],
   "source": [
    "#r_sig.Print()\n",
    "#print(\"#\"*100)\n",
    "#bern.Print(\"v\")"
   ]
  },
  {
   "cell_type": "code",
   "execution_count": 39,
   "metadata": {},
   "outputs": [
    {
     "name": "stdout",
     "output_type": "stream",
     "text": [
      "[#1] INFO:Plotting -- RooTreeData::plotOn: plotting 222184 events out of 318710 total events\n",
      "[#0] ERROR:InputArguments -- RooAbsReal::plotOn(env_pdf_0_2017_13TeV_bern5) ERROR: unrecognized command: CutRange\n"
     ]
    },
    {
     "data": {
      "image/png": "[encoded data removed]",
      "text/plain": [
       "<IPython.core.display.Image object>"
      ]
     },
     "metadata": {},
     "output_type": "display_data"
    }
   ],
   "source": [
    "frame = mass.frame()\n",
    "\n",
    "c = ROOT.TCanvas()\n",
    "#data.plotOn(frame)\n",
    "init_p = [0.517878, 0.444666, 0.329525,0.273955 , 0.229701]\n",
    "data.plotOn(frame,ROOT.RooFit.CutRange(\"left,right\"))\n",
    "#data.plotOn(frame,ROOT.RooFit.Invisible())\n",
    "bern.plotOn(frame,ROOT.RooFit.CutRange(\"nll_env_pdf_0_2017_13TeV_bern5_Data_13TeV_WStest_left\"))\n",
    "frame.SetMinimum(0.0001)\n",
    "frame.Draw()\n",
    "c.Draw()"
   ]
  },
  {
   "cell_type": "code",
   "execution_count": 16,
   "metadata": {},
   "outputs": [
    {
     "name": "stdout",
     "output_type": "stream",
     "text": [
      "RooRealVar::CMS_hgg_WStest_2017_13TeV_bkgshape_norm = 318710  L(0 - +INF) \n"
     ]
    },
    {
     "data": {
      "image/png": "[encoded data removed]",
      "text/plain": [
       "<IPython.core.display.Image object>"
      ]
     },
     "metadata": {},
     "output_type": "display_data"
    }
   ],
   "source": [
    "frame = mass.frame()\n",
    "c = ROOT.TCanvas()\n",
    "dh.plotOn(frame)\n",
    "bern.plotOn(frame,)\n",
    "storedPdfs = ROOT.RooArgList(\"store\")\n",
    "storedPdfs.add(bern)\n",
    "catIndex = ROOT.RooCategory(\"pdfindex_WStest_2017_13TeV\",\"c\")\n",
    "multi = ROOT.RooMultiPdf(\"CMS_hgg_WStest_2017_13TeV_bkgshape\", \"all pdfs\",catIndex,storedPdfs)\n",
    "multi.plotOn(frame, ROOT.RooFit.LineColor(ROOT.kRed))\n",
    "frame.Draw()\n",
    "c.Draw()\n",
    "norm.setVal(dh.sum(False,False))\n",
    "norm.Print()"
   ]
  },
  {
   "cell_type": "markdown",
   "metadata": {},
   "source": [
    "mass.setBins(160)\n",
    "\n",
    "# Create a binned dataset with 20 bins and 500 events\n",
    "hist1 = data.binnedClone()\n",
    "hist1.Print()\n",
    "c = ROOT.TCanvas()\n",
    "hist1.plotOn(frame)\n",
    "#data.plotOn(frame,ROOT.RooFit.Invisible())\n",
    "bern.plotOn(frame)\n",
    "frame.SetMinimum(0.0001)\n",
    "frame.Draw()\n",
    "c.Draw()"
   ]
  },
  {
   "cell_type": "code",
   "execution_count": 17,
   "metadata": {},
   "outputs": [
    {
     "data": {
      "text/plain": [
       "False"
      ]
     },
     "execution_count": 17,
     "metadata": {},
     "output_type": "execute_result"
    },
    {
     "name": "stdout",
     "output_type": "stream",
     "text": [
      "[#1] INFO:ObjectHandling -- RooWorkspace::import(multipdf) importing RooMultiPdf::CMS_hgg_WStest_2017_13TeV_bkgshape\n",
      "[#1] INFO:ObjectHandling -- RooWorkspace::import(multipdf) importing RooCategory::pdfindex_WStest_2017_13TeV\n",
      "[#1] INFO:ObjectHandling -- RooWorkspace::import(multipdf) importing RooBernsteinFast<5>::env_pdf_0_2017_13TeV_bern5\n",
      "[#1] INFO:ObjectHandling -- RooWorkspace::import(multipdf) importing RooRealVar::CMS_hgg_mass\n",
      "[#1] INFO:ObjectHandling -- RooWorkspace::import(multipdf) importing RooFormulaVar::env_pdf_0_2017_13TeV_bern5_p0_sq\n",
      "[#1] INFO:ObjectHandling -- RooWorkspace::import(multipdf) importing RooRealVar::env_pdf_0_2017_13TeV_bern5_p0\n",
      "[#1] INFO:ObjectHandling -- RooWorkspace::import(multipdf) importing RooFormulaVar::env_pdf_0_2017_13TeV_bern5_p1_sq\n",
      "[#1] INFO:ObjectHandling -- RooWorkspace::import(multipdf) importing RooRealVar::env_pdf_0_2017_13TeV_bern5_p1\n",
      "[#1] INFO:ObjectHandling -- RooWorkspace::import(multipdf) importing RooFormulaVar::env_pdf_0_2017_13TeV_bern5_p2_sq\n",
      "[#1] INFO:ObjectHandling -- RooWorkspace::import(multipdf) importing RooRealVar::env_pdf_0_2017_13TeV_bern5_p2\n",
      "[#1] INFO:ObjectHandling -- RooWorkspace::import(multipdf) importing RooFormulaVar::env_pdf_0_2017_13TeV_bern5_p3_sq\n",
      "[#1] INFO:ObjectHandling -- RooWorkspace::import(multipdf) importing RooRealVar::env_pdf_0_2017_13TeV_bern5_p3\n",
      "[#1] INFO:ObjectHandling -- RooWorkspace::import(multipdf) importing RooFormulaVar::env_pdf_0_2017_13TeV_bern5_p4_sq\n",
      "[#1] INFO:ObjectHandling -- RooWorkspace::import(multipdf) importing RooRealVar::env_pdf_0_2017_13TeV_bern5_p4\n",
      "[#1] INFO:ObjectHandling -- RooWorkspace::import(multipdf) importing RooRealVar::SqrtS\n",
      "[#1] INFO:ObjectHandling -- RooWorkspace::import(multipdf) importing RooRealVar::CMS_hgg_WStest_2017_13TeV_bkgshape_norm\n",
      "[#1] INFO:ObjectHandling -- RooWorkspace::import(multipdf) importing RooRealVar::intLumi\n",
      "[#1] INFO:ObjectHandling -- RooWorkspace::import(multipdf) importing dataset Data_13TeV_WStest\n"
     ]
    }
   ],
   "source": [
    "#getattr(workspace,'import')(bern)\n",
    "getattr(workspace,'import')(multi)\n",
    "getattr(workspace,'import')(sQr)\n",
    "getattr(workspace,'import')(norm)\n",
    "getattr(workspace,'import')(intL)\n",
    "getattr(workspace,'import')(dh)"
   ]
  },
  {
   "cell_type": "code",
   "execution_count": 18,
   "metadata": {},
   "outputs": [
    {
     "name": "stdout",
     "output_type": "stream",
     "text": [
      "\n",
      "RooWorkspace(multipdf) multipdf contents\n",
      "\n",
      "variables\n",
      "---------\n",
      "(CMS_hgg_WStest_2017_13TeV_bkgshape_norm,CMS_hgg_mass,SqrtS,env_pdf_0_2017_13TeV_bern5_p0,env_pdf_0_2017_13TeV_bern5_p1,env_pdf_0_2017_13TeV_bern5_p2,env_pdf_0_2017_13TeV_bern5_p3,env_pdf_0_2017_13TeV_bern5_p4,intLumi,pdfindex_WStest_2017_13TeV)\n",
      "\n",
      "p.d.f.s\n",
      "-------\n",
      "RooMultiPdf::CMS_hgg_WStest_2017_13TeV_bkgshape[ _pdfs=(env_pdf_0_2017_13TeV_bern5) _index=pdfindex_WStest_2017_13TeV ] = 0.389876\n",
      "RooBernsteinFast<5>::env_pdf_0_2017_13TeV_bern5[ x=CMS_hgg_mass coefList=(env_pdf_0_2017_13TeV_bern5_p0_sq,env_pdf_0_2017_13TeV_bern5_p1_sq,env_pdf_0_2017_13TeV_bern5_p2_sq,env_pdf_0_2017_13TeV_bern5_p3_sq,env_pdf_0_2017_13TeV_bern5_p4_sq) ] = 0.389876\n",
      "\n",
      "functions\n",
      "--------\n",
      "RooFormulaVar::env_pdf_0_2017_13TeV_bern5_p0_sq[ actualVars=(env_pdf_0_2017_13TeV_bern5_p0) formula=\"@0*@0\" ] = 0.252834\n",
      "RooFormulaVar::env_pdf_0_2017_13TeV_bern5_p1_sq[ actualVars=(env_pdf_0_2017_13TeV_bern5_p1) formula=\"@0*@0\" ] = 0.329407\n",
      "RooFormulaVar::env_pdf_0_2017_13TeV_bern5_p2_sq[ actualVars=(env_pdf_0_2017_13TeV_bern5_p2) formula=\"@0*@0\" ] = 0.0663667\n",
      "RooFormulaVar::env_pdf_0_2017_13TeV_bern5_p3_sq[ actualVars=(env_pdf_0_2017_13TeV_bern5_p3) formula=\"@0*@0\" ] = 0.123118\n",
      "RooFormulaVar::env_pdf_0_2017_13TeV_bern5_p4_sq[ actualVars=(env_pdf_0_2017_13TeV_bern5_p4) formula=\"@0*@0\" ] = 0.0619641\n",
      "\n",
      "datasets\n",
      "--------\n",
      "RooDataHist::Data_13TeV_WStest(CMS_hgg_mass)\n",
      "\n",
      "RooRealVar::CMS_hgg_WStest_2017_13TeV_bkgshape_norm = 318710  L(0 - +INF) \n"
     ]
    }
   ],
   "source": [
    "workspace.Print()\n",
    "workspace.var(\"CMS_hgg_WStest_2017_13TeV_bkgshape_norm\").Print()"
   ]
  },
  {
   "cell_type": "code",
   "execution_count": 19,
   "metadata": {},
   "outputs": [
    {
     "data": {
      "text/plain": [
       "False"
      ]
     },
     "execution_count": 19,
     "metadata": {},
     "output_type": "execute_result"
    }
   ],
   "source": [
    "workspace.writeToFile(\"mymultipdf_workspace_bdt.root\")"
   ]
  },
  {
   "cell_type": "code",
   "execution_count": 15,
   "metadata": {},
   "outputs": [
    {
     "name": "stdout",
     "output_type": "stream",
     "text": [
      "\n",
      "RooWorkspace(multipdf) multipdf contents\n",
      "\n",
      "variables\n",
      "---------\n",
      "(CMS_hgg_WStest_2017_13TeV_bkgshape_norm,CMS_hgg_mass,SqrtS,env_pdf_0_2017_13TeV_bern5_p0,env_pdf_0_2017_13TeV_bern5_p1,env_pdf_0_2017_13TeV_bern5_p2,env_pdf_0_2017_13TeV_bern5_p3,env_pdf_0_2017_13TeV_bern5_p4,intLumi,pdfindex_WStest_2017)\n",
      "\n",
      "p.d.f.s\n",
      "-------\n",
      "RooMultiPdf::CMS_hgg_WStest_2017_13TeV_bkgshape[ _pdfs=(env_pdf_0_2017_13TeV_bern5) _index=pdfindex_WStest_2017 ] = 0.837658\n",
      "RooBernsteinFast<5>::env_pdf_0_2017_13TeV_bern5[ x=CMS_hgg_mass coefList=(env_pdf_0_2017_13TeV_bern5_p0_sq,env_pdf_0_2017_13TeV_bern5_p1_sq,env_pdf_0_2017_13TeV_bern5_p2_sq,env_pdf_0_2017_13TeV_bern5_p3_sq,env_pdf_0_2017_13TeV_bern5_p4_sq) ] = 0.837658\n",
      "\n",
      "functions\n",
      "--------\n",
      "RooFormulaVar::env_pdf_0_2017_13TeV_bern5_p0_sq[ actualVars=(env_pdf_0_2017_13TeV_bern5_p0) formula=\"@0*@0\" ] = 0.267976\n",
      "RooFormulaVar::env_pdf_0_2017_13TeV_bern5_p1_sq[ actualVars=(env_pdf_0_2017_13TeV_bern5_p1) formula=\"@0*@0\" ] = 0.197867\n",
      "RooFormulaVar::env_pdf_0_2017_13TeV_bern5_p2_sq[ actualVars=(env_pdf_0_2017_13TeV_bern5_p2) formula=\"@0*@0\" ] = 0.108546\n",
      "RooFormulaVar::env_pdf_0_2017_13TeV_bern5_p3_sq[ actualVars=(env_pdf_0_2017_13TeV_bern5_p3) formula=\"@0*@0\" ] = 0.0750107\n",
      "RooFormulaVar::env_pdf_0_2017_13TeV_bern5_p4_sq[ actualVars=(env_pdf_0_2017_13TeV_bern5_p4) formula=\"@0*@0\" ] = 0.0527726\n",
      "\n",
      "datasets\n",
      "--------\n",
      "RooDataHist::Data_13TeV_WStest(CMS_hgg_mass)\n",
      "\n"
     ]
    }
   ],
   "source": [
    "f   = ROOT.TFile.Open(\"mymultipdf_workspace.root\")\n",
    "wout = f.Get(\"multipdf\")\n",
    "wout.Print()"
   ]
  },
  {
   "cell_type": "code",
   "execution_count": 10,
   "metadata": {},
   "outputs": [
    {
     "name": "stdout",
     "output_type": "stream",
     "text": [
      "\n",
      "RooWorkspace(wsig_13TeV) wsig_13TeV contents\n",
      "\n",
      "variables\n",
      "---------\n",
      "(CMS_hgg_mass,IntLumi,MH,dZ)\n",
      "\n",
      "p.d.f.s\n",
      "-------\n",
      "RooExtendPdf::extendhggpdfsmrel_GG2H_WStest_2017_WStest_13TeV[ pdf=hggpdfsmrel_GG2H_WStest_2017_WStest_13TeV n=hggpdfsmrel_GG2H_WStest_2017_WStest_13TeV_norm ] = 0.821936\n",
      "RooExtendPdf::extendhggpdfsmrel_GG2H_WStest_2017_WStest_13TeVThisLumi[ pdf=hggpdfsmrel_GG2H_WStest_2017_WStest_13TeV n=hggpdfsmrel_GG2H_WStest_2017_WStest_13TeV_normThisLumi ] = 0.821936\n",
      "RooGaussian::gaus_g0_GG2H_WStest_2017_WStest_13TeV[ x=CMS_hgg_mass mean=mean_g0_GG2H_WStest_2017_WStest_13TeV sigma=sigma_g0_GG2H_WStest_2017_WStest_13TeV ] = 0.943395\n",
      "RooGaussian::gaus_g1_GG2H_WStest_2017_WStest_13TeV[ x=CMS_hgg_mass mean=mean_g1_GG2H_WStest_2017_WStest_13TeV sigma=sigma_g1_GG2H_WStest_2017_WStest_13TeV ] = 0.549973\n",
      "RooGaussian::gaus_g2_GG2H_WStest_2017_WStest_13TeV[ x=CMS_hgg_mass mean=mean_g2_GG2H_WStest_2017_WStest_13TeV sigma=sigma_g2_GG2H_WStest_2017_WStest_13TeV ] = 0.88819\n",
      "RooGaussian::gaus_g3_GG2H_WStest_2017_WStest_13TeV[ x=CMS_hgg_mass mean=mean_g3_GG2H_WStest_2017_WStest_13TeV sigma=sigma_g3_GG2H_WStest_2017_WStest_13TeV ] = 0.928899\n",
      "RooAddPdf::hggpdfsmrel_GG2H_WStest_2017_WStest_13TeV[ frac_g0_GG2H_WStest_2017_WStest_13TeV * gaus_g0_GG2H_WStest_2017_WStest_13TeV + hggpdfsmrel_GG2H_WStest_2017_WStest_13TeV_recursive_fraction_gaus_g1_GG2H_WStest_2017_WStest_13TeV * gaus_g1_GG2H_WStest_2017_WStest_13TeV + hggpdfsmrel_GG2H_WStest_2017_WStest_13TeV_recursive_fraction_gaus_g2_GG2H_WStest_2017_WStest_13TeV * gaus_g2_GG2H_WStest_2017_WStest_13TeV + hggpdfsmrel_GG2H_WStest_2017_WStest_13TeV_recursive_fraction_gaus_g3_GG2H_WStest_2017_WStest_13TeV * gaus_g3_GG2H_WStest_2017_WStest_13TeV ] = 0.821936\n",
      "\n",
      "functions\n",
      "--------\n",
      "RooSpline1D::dm_g0_GG2H_WStest_2017_WStest_13TeV[ xvar=MH ] = -0.568908\n",
      "RooSpline1D::dm_g1_GG2H_WStest_2017_WStest_13TeV[ xvar=MH ] = -0.107458\n",
      "RooSpline1D::dm_g2_GG2H_WStest_2017_WStest_13TeV[ xvar=MH ] = -0.531233\n",
      "RooSpline1D::dm_g3_GG2H_WStest_2017_WStest_13TeV[ xvar=MH ] = -3.61967\n",
      "RooSpline1D::fbr_13TeV[ xvar=MH ] = 0.00227\n",
      "RooSpline1D::fea_GG2H_WStest_2017_WStest_13TeV[ xvar=MH ] = 1.90858e+06\n",
      "RooSpline1D::frac_g0_GG2H_WStest_2017_WStest_13TeV[ xvar=MH ] = 0.487051\n",
      "RooSpline1D::frac_g1_GG2H_WStest_2017_WStest_13TeV[ xvar=MH ] = 0.564191\n",
      "RooSpline1D::frac_g2_GG2H_WStest_2017_WStest_13TeV[ xvar=MH ] = 0.479328\n",
      "RooSpline1D::fxs_GG2H_WStest_13TeV[ xvar=MH ] = 48.58\n",
      "RooFormulaVar::hggpdfsmrel_GG2H_WStest_2017_WStest_13TeV_norm[ actualVars=(fxs_GG2H_WStest_13TeV,fbr_13TeV,fea_GG2H_WStest_2017_WStest_13TeV,rate_GG2H_WStest_2017_WStest_13TeV) formula=\"@0*@1*@2*@3\" ] = 210471\n",
      "RooFormulaVar::hggpdfsmrel_GG2H_WStest_2017_WStest_13TeV_normThisLumi[ actualVars=(fxs_GG2H_WStest_13TeV,fbr_13TeV,fea_GG2H_WStest_2017_WStest_13TeV,rate_GG2H_WStest_2017_WStest_13TeV,IntLumi) formula=\"@0*@1*@2*@3*@4\" ] = 210471\n",
      "RooRecursiveFraction::hggpdfsmrel_GG2H_WStest_2017_WStest_13TeV_recursive_fraction_gaus_g1_GG2H_WStest_2017_WStest_13TeV[ list=(frac_g1_GG2H_WStest_2017_WStest_13TeV,frac_g0_GG2H_WStest_2017_WStest_13TeV) ] = 0.289401\n",
      "RooRecursiveFraction::hggpdfsmrel_GG2H_WStest_2017_WStest_13TeV_recursive_fraction_gaus_g2_GG2H_WStest_2017_WStest_13TeV[ list=(frac_g2_GG2H_WStest_2017_WStest_13TeV,frac_g1_GG2H_WStest_2017_WStest_13TeV,frac_g0_GG2H_WStest_2017_WStest_13TeV) ] = 0.107153\n",
      "RooRecursiveFraction::hggpdfsmrel_GG2H_WStest_2017_WStest_13TeV_recursive_fraction_gaus_g3_GG2H_WStest_2017_WStest_13TeV[ list=(1,frac_g2_GG2H_WStest_2017_WStest_13TeV,frac_g1_GG2H_WStest_2017_WStest_13TeV,frac_g0_GG2H_WStest_2017_WStest_13TeV) ] = 0.116395\n",
      "RooFormulaVar::mean_g0_GG2H_WStest_2017_WStest_13TeV[ actualVars=(MH,dm_g0_GG2H_WStest_2017_WStest_13TeV) formula=\"(@0+@1)\" ] = 124.431\n",
      "RooFormulaVar::mean_g1_GG2H_WStest_2017_WStest_13TeV[ actualVars=(MH,dm_g1_GG2H_WStest_2017_WStest_13TeV) formula=\"(@0+@1)\" ] = 124.893\n",
      "RooFormulaVar::mean_g2_GG2H_WStest_2017_WStest_13TeV[ actualVars=(MH,dm_g2_GG2H_WStest_2017_WStest_13TeV) formula=\"(@0+@1)\" ] = 124.469\n",
      "RooFormulaVar::mean_g3_GG2H_WStest_2017_WStest_13TeV[ actualVars=(MH,dm_g3_GG2H_WStest_2017_WStest_13TeV) formula=\"(@0+@1)\" ] = 121.38\n",
      "RooFormulaVar::rate_GG2H_WStest_2017_WStest_13TeV[ actualVars=() formula=\"(1.)\" ] = 1\n",
      "RooSpline1D::sigma_fit_g0_GG2H_WStest_2017_WStest_13TeV[ xvar=MH ] = 2.59108\n",
      "RooSpline1D::sigma_fit_g1_GG2H_WStest_2017_WStest_13TeV[ xvar=MH ] = 1.23089\n",
      "RooSpline1D::sigma_fit_g2_GG2H_WStest_2017_WStest_13TeV[ xvar=MH ] = 1.8938\n",
      "RooSpline1D::sigma_fit_g3_GG2H_WStest_2017_WStest_13TeV[ xvar=MH ] = 5.64015\n",
      "RooFormulaVar::sigma_g0_GG2H_WStest_2017_WStest_13TeV[ actualVars=(sigma_fit_g0_GG2H_WStest_2017_WStest_13TeV) formula=\"@0\" ] = 2.59108\n",
      "RooFormulaVar::sigma_g1_GG2H_WStest_2017_WStest_13TeV[ actualVars=(sigma_fit_g1_GG2H_WStest_2017_WStest_13TeV) formula=\"@0\" ] = 1.23089\n",
      "RooFormulaVar::sigma_g2_GG2H_WStest_2017_WStest_13TeV[ actualVars=(sigma_fit_g2_GG2H_WStest_2017_WStest_13TeV) formula=\"@0\" ] = 1.8938\n",
      "RooFormulaVar::sigma_g3_GG2H_WStest_2017_WStest_13TeV[ actualVars=(sigma_fit_g3_GG2H_WStest_2017_WStest_13TeV) formula=\"@0\" ] = 5.64015\n",
      "\n",
      "datasets\n",
      "--------\n",
      "RooDataSet::sig_mass_m125_GG2H_WStest_2017_WStest_13TeV(CMS_hgg_mass,dZ)\n",
      "RooDataSet::sig_mass_m125_WStest(CMS_hgg_mass,dZ)\n",
      "\n"
     ]
    }
   ],
   "source": [
    "f   = ROOT.TFile.Open(\"../Combine/Models/signal/CMS-HGG_sigfit_test_hdna_GG2H_WStest_2017_WStest.root\")\n",
    "my_w = f.Get(\"wsig_13TeV\")\n",
    "my_w.Print()"
   ]
  },
  {
   "cell_type": "code",
   "execution_count": null,
   "metadata": {},
   "outputs": [],
   "source": []
  }
 ],
 "metadata": {
  "kernelspec": {
   "display_name": "Python 2",
   "language": "python",
   "name": "python2"
  },
  "language_info": {
   "codemirror_mode": {
    "name": "ipython",
    "version": 2
   },
   "file_extension": ".py",
   "mimetype": "text/x-python",
   "name": "python",
   "nbconvert_exporter": "python",
   "pygments_lexer": "ipython2",
   "version": "2.7.14+"
  },
  "orig_nbformat": 4,
  "vscode": {
   "interpreter": {
    "hash": "31f2aee4e71d21fbe5cf8b01ff0e069b9275f58929596ceb00d14d90e3e16cd6"
   }
  }
 },
 "nbformat": 4,
 "nbformat_minor": 2
}
