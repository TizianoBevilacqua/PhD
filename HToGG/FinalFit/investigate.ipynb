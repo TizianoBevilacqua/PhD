{
 "cells": [
  {
   "cell_type": "code",
   "execution_count": 1,
   "metadata": {},
   "outputs": [
    {
     "name": "stdout",
     "output_type": "stream",
     "text": [
      "Welcome to JupyROOT 6.12/07\n"
     ]
    }
   ],
   "source": [
    "import ROOT\n",
    "import argparse\n",
    "import os\n",
    "import ROOT\n",
    "import re"
   ]
  },
  {
   "cell_type": "code",
   "execution_count": 2,
   "metadata": {},
   "outputs": [
    {
     "name": "stdout",
     "output_type": "stream",
     "text": [
      "/work/bevila_t/HpC_Analysis/test_flashggfinalfit/CMSSW_10_2_13/src/flashggFinalFit/Combine\n"
     ]
    }
   ],
   "source": [
    "%%bash\n",
    "pwd"
   ]
  },
  {
   "cell_type": "code",
   "execution_count": 9,
   "metadata": {},
   "outputs": [
    {
     "ename": "ReferenceError",
     "evalue": "attempt to access a null-pointer",
     "output_type": "error",
     "traceback": [
      "\u001b[0;31m\u001b[0m",
      "\u001b[0;31mReferenceError\u001b[0mTraceback (most recent call last)",
      "\u001b[0;32m<ipython-input-9-9bfc6e913a48>\u001b[0m in \u001b[0;36m<module>\u001b[0;34m()\u001b[0m\n\u001b[1;32m      1\u001b[0m \u001b[0mf\u001b[0m   \u001b[0;34m=\u001b[0m \u001b[0mROOT\u001b[0m\u001b[0;34m.\u001b[0m\u001b[0mTFile\u001b[0m\u001b[0;34m.\u001b[0m\u001b[0mOpen\u001b[0m\u001b[0;34m(\u001b[0m\u001b[0;34m\"fitDiagnosticsHGG_test_fgg.root\"\u001b[0m\u001b[0;34m)\u001b[0m\u001b[0;34m\u001b[0m\u001b[0m\n\u001b[0;32m----> 2\u001b[0;31m \u001b[0mw_fit\u001b[0m \u001b[0;34m=\u001b[0m \u001b[0mf\u001b[0m\u001b[0;34m.\u001b[0m\u001b[0mGet\u001b[0m\u001b[0;34m(\u001b[0m\u001b[0;34m\"WStest_2017_CMS_hgg_mass_fit_s\"\u001b[0m\u001b[0;34m)\u001b[0m\u001b[0;34m\u001b[0m\u001b[0m\n\u001b[0m\u001b[1;32m      3\u001b[0m \u001b[0mw_s\u001b[0m \u001b[0;34m=\u001b[0m \u001b[0mf\u001b[0m\u001b[0;34m.\u001b[0m\u001b[0mGet\u001b[0m\u001b[0;34m(\u001b[0m\u001b[0;34m\"fit_s\"\u001b[0m\u001b[0;34m)\u001b[0m\u001b[0;34m\u001b[0m\u001b[0m\n\u001b[1;32m      4\u001b[0m \u001b[0mshapes\u001b[0m \u001b[0;34m=\u001b[0m \u001b[0mf\u001b[0m\u001b[0;34m.\u001b[0m\u001b[0mGet\u001b[0m\u001b[0;34m(\u001b[0m\u001b[0;34m\"shapes_fit_s/WStest_2017/data\"\u001b[0m\u001b[0;34m)\u001b[0m\u001b[0;34m\u001b[0m\u001b[0m\n\u001b[1;32m      5\u001b[0m \u001b[0mshapes\u001b[0m\u001b[0;34m.\u001b[0m\u001b[0mSetTitle\u001b[0m\u001b[0;34m(\u001b[0m\u001b[0;34m\"tua madre\"\u001b[0m\u001b[0;34m)\u001b[0m\u001b[0;34m\u001b[0m\u001b[0m\n",
      "\u001b[0;31mReferenceError\u001b[0m: attempt to access a null-pointer"
     ]
    },
    {
     "name": "stderr",
     "output_type": "stream",
     "text": [
      "Error in <TFile::TFile>: file fitDiagnosticsHGG_test_fgg.root does not exist\n"
     ]
    }
   ],
   "source": [
    "f   = ROOT.TFile.Open(\"fitDiagnosticsHGG_test_fgg.root\")\n",
    "w_fit = f.Get(\"WStest_2017_CMS_hgg_mass_fit_s\")\n",
    "w_s = f.Get(\"fit_s\")\n",
    "shapes = f.Get(\"shapes_fit_s/WStest_2017/data\")\n",
    "shapes.SetTitle(\"tua madre\")\n",
    "shapes.SetName(\"tua madre\")\n",
    "total = f.Get(\"shapes_fit_s/WStest_2017/total\")"
   ]
  },
  {
   "cell_type": "code",
   "execution_count": 3,
   "metadata": {},
   "outputs": [
    {
     "name": "stdout",
     "output_type": "stream",
     "text": [
      "\n",
      "RooWorkspace(w) w contents\n",
      "\n",
      "variables\n",
      "---------\n",
      "(CMS_channel,CMS_hgg_mass,MH,env_pdf_0_2017_13TeV_bern5_p0,env_pdf_0_2017_13TeV_bern5_p1,env_pdf_0_2017_13TeV_bern5_p2,env_pdf_0_2017_13TeV_bern5_p3,env_pdf_0_2017_13TeV_bern5_p4,env_pdf_0_2017_13TeV_exp3_f1,env_pdf_0_2017_13TeV_exp3_p1,env_pdf_0_2017_13TeV_exp3_p2,env_pdf_0_2017_13TeV_lau1_l1,env_pdf_0_2017_13TeV_pow1_p1,lumi_13TeV,lumi_13TeV_In,n_exp_binWStest_2017_proc_bkg_mass,pdfindex_WStest_2017_13TeV,r,shapeBkg_bkg_mass_WStest_2017__norm)\n",
      "\n",
      "p.d.f.s\n",
      "-------\n",
      "RooBernsteinFast<5>::env_pdf_0_2017_13TeV_bern5[ x=CMS_hgg_mass coefList=(env_pdf_0_2017_13TeV_bern5_p0_sq,env_pdf_0_2017_13TeV_bern5_p1_sq,env_pdf_0_2017_13TeV_bern5_p2_sq,env_pdf_0_2017_13TeV_bern5_p3_sq,env_pdf_0_2017_13TeV_bern5_p4_sq) ] = 0.389937\n",
      "RooAddPdf::env_pdf_0_2017_13TeV_exp3[ env_pdf_0_2017_13TeV_exp3_f1 * env_pdf_0_2017_13TeV_exp3_e1 + env_pdf_0_2017_13TeV_exp3_recursive_fraction_env_pdf_0_2017_13TeV_exp3_e2 * env_pdf_0_2017_13TeV_exp3_e2 ] = 0.0279433\n",
      "RooExponential::env_pdf_0_2017_13TeV_exp3_e1[ x=CMS_hgg_mass c=env_pdf_0_2017_13TeV_exp3_p1 ] = 0.000238089\n",
      "RooExponential::env_pdf_0_2017_13TeV_exp3_e2[ x=CMS_hgg_mass c=env_pdf_0_2017_13TeV_exp3_p2 ] = 0.0386649\n",
      "RooAddPdf::env_pdf_0_2017_13TeV_lau1[ env_pdf_0_2017_13TeV_lau1_l1 * env_pdf_0_2017_13TeV_lau1_pow0 + env_pdf_0_2017_13TeV_lau1_recursive_fraction_env_pdf_0_2017_13TeV_lau1_powl1 * env_pdf_0_2017_13TeV_lau1_powl1 ] = 1.82323e-09\n",
      "RooPower::env_pdf_0_2017_13TeV_lau1_pow0[ x=CMS_hgg_mass c=-4 ] = 4.39926e-09\n",
      "RooPower::env_pdf_0_2017_13TeV_lau1_powl1[ x=CMS_hgg_mass c=-5 ] = 3.58282e-11\n",
      "RooAddPdf::env_pdf_0_2017_13TeV_pow1[ env_pdf_0_2017_13TeV_pow1_recursive_fraction_env_pdf_0_2017_13TeV_pow1_e1 * env_pdf_0_2017_13TeV_pow1_e1 ] = 2.74191e-10\n",
      "RooPower::env_pdf_0_2017_13TeV_pow1_e1[ x=CMS_hgg_mass c=env_pdf_0_2017_13TeV_pow1_p1 ] = 2.74191e-10\n",
      "RooGaussian::gaus_g0_GG2H_2017_WStest_13TeV[ x=CMS_hgg_mass mean=mean_g0_GG2H_2017_WStest_13TeV sigma=sigma_g0_GG2H_2017_WStest_13TeV ] = 1.8606e-07\n",
      "RooGaussian::gaus_g0_TTH_2017_WStest_13TeV[ x=CMS_hgg_mass mean=mean_g0_TTH_2017_WStest_13TeV sigma=sigma_g0_TTH_2017_WStest_13TeV ] = 1.64234e-06\n",
      "RooGaussian::gaus_g0_VBF_2017_WStest_13TeV[ x=CMS_hgg_mass mean=mean_g0_VBF_2017_WStest_13TeV sigma=sigma_g0_VBF_2017_WStest_13TeV ] = 2.41996e-05\n",
      "RooGaussian::gaus_g0_VH_2017_WStest_13TeV[ x=CMS_hgg_mass mean=mean_g0_VH_2017_WStest_13TeV sigma=sigma_g0_VH_2017_WStest_13TeV ] = 8.52021e-08\n",
      "RooGaussian::gaus_g1_GG2H_2017_WStest_13TeV[ x=CMS_hgg_mass mean=mean_g1_GG2H_2017_WStest_13TeV sigma=sigma_g1_GG2H_2017_WStest_13TeV ] = 0.034603\n",
      "RooGaussian::gaus_g1_TTH_2017_WStest_13TeV[ x=CMS_hgg_mass mean=mean_g1_TTH_2017_WStest_13TeV sigma=sigma_g1_TTH_2017_WStest_13TeV ] = 0.0260757\n",
      "RooGaussian::gaus_g1_VBF_2017_WStest_13TeV[ x=CMS_hgg_mass mean=mean_g1_VBF_2017_WStest_13TeV sigma=sigma_g1_VBF_2017_WStest_13TeV ] = 0.310031\n",
      "RooGaussian::gaus_g1_VH_2017_WStest_13TeV[ x=CMS_hgg_mass mean=mean_g1_VH_2017_WStest_13TeV sigma=sigma_g1_VH_2017_WStest_13TeV ] = 0.00365577\n",
      "RooGaussian::gaus_g2_GG2H_2017_WStest_13TeV[ x=CMS_hgg_mass mean=mean_g2_GG2H_2017_WStest_13TeV sigma=sigma_g2_GG2H_2017_WStest_13TeV ] = 0.0199621\n",
      "RooGaussian::gaus_g2_TTH_2017_WStest_13TeV[ x=CMS_hgg_mass mean=mean_g2_TTH_2017_WStest_13TeV sigma=sigma_g2_TTH_2017_WStest_13TeV ] = 6.75431e-21\n",
      "RooGaussian::gaus_g2_VH_2017_WStest_13TeV[ x=CMS_hgg_mass mean=mean_g2_VH_2017_WStest_13TeV sigma=sigma_g2_VH_2017_WStest_13TeV ] = 0.297844\n",
      "RooGaussian::gaus_g3_GG2H_2017_WStest_13TeV[ x=CMS_hgg_mass mean=mean_g3_GG2H_2017_WStest_13TeV sigma=sigma_g3_GG2H_2017_WStest_13TeV ] = 0.654519\n",
      "RooGaussian::gaus_g3_TTH_2017_WStest_13TeV[ x=CMS_hgg_mass mean=mean_g3_TTH_2017_WStest_13TeV sigma=sigma_g3_TTH_2017_WStest_13TeV ] = 0.934254\n",
      "RooGaussian::gaus_g4_TTH_2017_WStest_13TeV[ x=CMS_hgg_mass mean=mean_g4_TTH_2017_WStest_13TeV sigma=sigma_g4_TTH_2017_WStest_13TeV ] = 0.564884\n",
      "SimpleGaussianConstraint::lumi_13TeV_Pdf[ x=lumi_13TeV mean=lumi_13TeV_In sigma=1 ] = 1\n",
      "RooSimultaneousOpt::model_b[ indexCat=CMS_channel WStest_2017=pdf_binWStest_2017_bonly extraConstraints=() channelMasks=() ] = 0.389937\n",
      "RooSimultaneousOpt::model_s[ indexCat=CMS_channel WStest_2017=pdf_binWStest_2017 extraConstraints=() channelMasks=() ] = 0.388352\n",
      "RooProdPdf::nuisancePdf[ lumi_13TeV_Pdf ] = 1\n",
      "RooProdPdf::pdf_binWStest_2017[ lumi_13TeV_Pdf * pdf_binWStest_2017_nuis * pdfbins_binWStest_2017 ] = 0.388352\n",
      "RooProdPdf::pdf_binWStest_2017_bonly[ lumi_13TeV_Pdf * pdf_binWStest_2017_bonly_nuis * pdfbins_binWStest_2017 ] = 0.389937\n",
      "RooAddPdf::pdf_binWStest_2017_bonly_nuis[ n_exp_final_binWStest_2017_proc_bkg_mass * shapeBkg_bkg_mass_WStest_2017 ] = 0.389937\n",
      "RooAddPdf::pdf_binWStest_2017_nuis[ n_exp_final_binWStest_2017_proc_ggH_2017_hgg * shapeSig_ggH_2017_hgg_WStest_2017 + n_exp_final_binWStest_2017_proc_qqH_2017_hgg * shapeSig_qqH_2017_hgg_WStest_2017 + n_exp_final_binWStest_2017_proc_vH_2017_hgg * shapeSig_vH_2017_hgg_WStest_2017 + n_exp_final_binWStest_2017_proc_bkg_mass * shapeBkg_bkg_mass_WStest_2017 + n_exp_final_binWStest_2017_proc_ttH_2017_hgg * shapeSig_ttH_2017_hgg_WStest_2017 ] = 0.388352\n",
      "RooProdPdf::pdfbins_binWStest_2017[  ] = 1\n",
      "RooMultiPdf::shapeBkg_bkg_mass_WStest_2017[ _pdfs=(env_pdf_0_2017_13TeV_bern5,env_pdf_0_2017_13TeV_exp3,env_pdf_0_2017_13TeV_pow1,env_pdf_0_2017_13TeV_lau1) _index=pdfindex_WStest_2017_13TeV ] = 0.389937\n",
      "RooAddPdf::shapeSig_ggH_2017_hgg_WStest_2017[ frac_g0_GG2H_2017_WStest_13TeV * gaus_g0_GG2H_2017_WStest_13TeV + hggpdfsmrel_GG2H_2017_WStest_13TeV_recursive_fraction_gaus_g1_GG2H_2017_WStest_13TeV * gaus_g1_GG2H_2017_WStest_13TeV + hggpdfsmrel_GG2H_2017_WStest_13TeV_recursive_fraction_gaus_g2_GG2H_2017_WStest_13TeV * gaus_g2_GG2H_2017_WStest_13TeV + hggpdfsmrel_GG2H_2017_WStest_13TeV_recursive_fraction_gaus_g3_GG2H_2017_WStest_13TeV * gaus_g3_GG2H_2017_WStest_13TeV ] = 0.0818234\n",
      "RooAddPdf::shapeSig_qqH_2017_hgg_WStest_2017[ frac_g0_VBF_2017_WStest_13TeV * gaus_g0_VBF_2017_WStest_13TeV + hggpdfsmrel_VBF_2017_WStest_13TeV_recursive_fraction_gaus_g1_VBF_2017_WStest_13TeV * gaus_g1_VBF_2017_WStest_13TeV ] = 0.0859118\n",
      "RooAddPdf::shapeSig_ttH_2017_hgg_WStest_2017[ frac_g0_TTH_2017_WStest_13TeV * gaus_g0_TTH_2017_WStest_13TeV + hggpdfsmrel_TTH_2017_WStest_13TeV_recursive_fraction_gaus_g1_TTH_2017_WStest_13TeV * gaus_g1_TTH_2017_WStest_13TeV + hggpdfsmrel_TTH_2017_WStest_13TeV_recursive_fraction_gaus_g2_TTH_2017_WStest_13TeV * gaus_g2_TTH_2017_WStest_13TeV + hggpdfsmrel_TTH_2017_WStest_13TeV_recursive_fraction_gaus_g3_TTH_2017_WStest_13TeV * gaus_g3_TTH_2017_WStest_13TeV + hggpdfsmrel_TTH_2017_WStest_13TeV_recursive_fraction_gaus_g4_TTH_2017_WStest_13TeV * gaus_g4_TTH_2017_WStest_13TeV ] = 0.0745495\n",
      "RooAddPdf::shapeSig_vH_2017_hgg_WStest_2017[ frac_g0_VH_2017_WStest_13TeV * gaus_g0_VH_2017_WStest_13TeV + hggpdfsmrel_VH_2017_WStest_13TeV_recursive_fraction_gaus_g1_VH_2017_WStest_13TeV * gaus_g1_VH_2017_WStest_13TeV + hggpdfsmrel_VH_2017_WStest_13TeV_recursive_fraction_gaus_g2_VH_2017_WStest_13TeV * gaus_g2_VH_2017_WStest_13TeV ] = 0.069055\n",
      "\n",
      "functions\n",
      "--------\n",
      "RooSpline1D::dm_g0_GG2H_2017_WStest_13TeV[ xvar=MH ] = -0.0981692\n",
      "RooSpline1D::dm_g0_TTH_2017_WStest_13TeV[ xvar=MH ] = -0.16017\n",
      "RooSpline1D::dm_g0_VBF_2017_WStest_13TeV[ xvar=MH ] = -0.20921\n",
      "RooSpline1D::dm_g0_VH_2017_WStest_13TeV[ xvar=MH ] = -0.0699316\n",
      "RooSpline1D::dm_g1_GG2H_2017_WStest_13TeV[ xvar=MH ] = -0.649035\n",
      "RooSpline1D::dm_g1_TTH_2017_WStest_13TeV[ xvar=MH ] = -0.744968\n",
      "RooSpline1D::dm_g1_VBF_2017_WStest_13TeV[ xvar=MH ] = -1.65077\n",
      "RooSpline1D::dm_g1_VH_2017_WStest_13TeV[ xvar=MH ] = -0.422548\n",
      "RooSpline1D::dm_g2_GG2H_2017_WStest_13TeV[ xvar=MH ] = -0.515145\n",
      "RooSpline1D::dm_g2_TTH_2017_WStest_13TeV[ xvar=MH ] = -0.0400431\n",
      "RooSpline1D::dm_g2_VH_2017_WStest_13TeV[ xvar=MH ] = -1.68056\n",
      "RooSpline1D::dm_g3_GG2H_2017_WStest_13TeV[ xvar=MH ] = -2.93279\n",
      "RooSpline1D::dm_g3_TTH_2017_WStest_13TeV[ xvar=MH ] = -5\n",
      "RooSpline1D::dm_g4_TTH_2017_WStest_13TeV[ xvar=MH ] = 3.47544\n",
      "RooFormulaVar::env_pdf_0_2017_13TeV_bern5_p0_sq[ actualVars=(env_pdf_0_2017_13TeV_bern5_p0) formula=\"@0*@0\" ] = 0.253325\n",
      "RooFormulaVar::env_pdf_0_2017_13TeV_bern5_p1_sq[ actualVars=(env_pdf_0_2017_13TeV_bern5_p1) formula=\"@0*@0\" ] = 0.328893\n",
      "RooFormulaVar::env_pdf_0_2017_13TeV_bern5_p2_sq[ actualVars=(env_pdf_0_2017_13TeV_bern5_p2) formula=\"@0*@0\" ] = 0.0666266\n",
      "RooFormulaVar::env_pdf_0_2017_13TeV_bern5_p3_sq[ actualVars=(env_pdf_0_2017_13TeV_bern5_p3) formula=\"@0*@0\" ] = 0.123151\n",
      "RooFormulaVar::env_pdf_0_2017_13TeV_bern5_p4_sq[ actualVars=(env_pdf_0_2017_13TeV_bern5_p4) formula=\"@0*@0\" ] = 0.0619189\n",
      "RooRecursiveFraction::env_pdf_0_2017_13TeV_exp3_recursive_fraction_env_pdf_0_2017_13TeV_exp3_e2[ list=(1,env_pdf_0_2017_13TeV_exp3_f1) ] = 0.720986\n",
      "RooRecursiveFraction::env_pdf_0_2017_13TeV_lau1_recursive_fraction_env_pdf_0_2017_13TeV_lau1_powl1[ list=(1,env_pdf_0_2017_13TeV_lau1_l1) ] = 0.590368\n",
      "RooRecursiveFraction::env_pdf_0_2017_13TeV_pow1_recursive_fraction_env_pdf_0_2017_13TeV_pow1_e1[ list=(1) ] = 1\n",
      "RooSpline1D::fbr_13TeV[ xvar=MH ] = 0.002238\n",
      "RooSpline1D::fea_GG2H_2017_WStest_13TeV[ xvar=MH ] = 0.321681\n",
      "RooSpline1D::fea_TTH_2017_WStest_13TeV[ xvar=MH ] = 0.309867\n",
      "RooSpline1D::fea_VBF_2017_WStest_13TeV[ xvar=MH ] = 0.348617\n",
      "RooSpline1D::fea_VH_2017_WStest_13TeV[ xvar=MH ] = 0.283893\n",
      "RooSpline1D::frac_g0_GG2H_2017_WStest_13TeV[ xvar=MH ] = 0.406159\n",
      "RooSpline1D::frac_g0_TTH_2017_WStest_13TeV[ xvar=MH ] = 0.561852\n",
      "RooSpline1D::frac_g0_VBF_2017_WStest_13TeV[ xvar=MH ] = 0.722949\n",
      "RooSpline1D::frac_g0_VH_2017_WStest_13TeV[ xvar=MH ] = 0.452875\n",
      "RooSpline1D::frac_g1_GG2H_2017_WStest_13TeV[ xvar=MH ] = 0.53267\n",
      "RooSpline1D::frac_g1_TTH_2017_WStest_13TeV[ xvar=MH ] = 0.662256\n",
      "RooSpline1D::frac_g1_VH_2017_WStest_13TeV[ xvar=MH ] = 0.583401\n",
      "RooSpline1D::frac_g2_GG2H_2017_WStest_13TeV[ xvar=MH ] = 0.628978\n",
      "RooSpline1D::frac_g2_TTH_2017_WStest_13TeV[ xvar=MH ] = 0.49959\n",
      "RooSpline1D::frac_g3_TTH_2017_WStest_13TeV[ xvar=MH ] = 0.919542\n",
      "RooSpline1D::fxs_GG2H_13TeV[ xvar=MH ] = 48.58\n",
      "RooSpline1D::fxs_TTH_13TeV[ xvar=MH ] = 0.51\n",
      "RooSpline1D::fxs_VBF_13TeV[ xvar=MH ] = 3.78\n",
      "RooSpline1D::fxs_VH_13TeV[ xvar=MH ] = 2.2555\n",
      "RooRecursiveFraction::hggpdfsmrel_GG2H_2017_WStest_13TeV_recursive_fraction_gaus_g1_GG2H_2017_WStest_13TeV[ list=(frac_g1_GG2H_2017_WStest_13TeV,frac_g0_GG2H_2017_WStest_13TeV) ] = 0.316321\n",
      "RooRecursiveFraction::hggpdfsmrel_GG2H_2017_WStest_13TeV_recursive_fraction_gaus_g2_GG2H_2017_WStest_13TeV[ list=(frac_g2_GG2H_2017_WStest_13TeV,frac_g1_GG2H_2017_WStest_13TeV,frac_g0_GG2H_2017_WStest_13TeV) ] = 0.174554\n",
      "RooRecursiveFraction::hggpdfsmrel_GG2H_2017_WStest_13TeV_recursive_fraction_gaus_g3_GG2H_2017_WStest_13TeV[ list=(1,frac_g2_GG2H_2017_WStest_13TeV,frac_g1_GG2H_2017_WStest_13TeV,frac_g0_GG2H_2017_WStest_13TeV) ] = 0.102966\n",
      "RooRecursiveFraction::hggpdfsmrel_TTH_2017_WStest_13TeV_recursive_fraction_gaus_g1_TTH_2017_WStest_13TeV[ list=(frac_g1_TTH_2017_WStest_13TeV,frac_g0_TTH_2017_WStest_13TeV) ] = 0.290166\n",
      "RooRecursiveFraction::hggpdfsmrel_TTH_2017_WStest_13TeV_recursive_fraction_gaus_g2_TTH_2017_WStest_13TeV[ list=(frac_g2_TTH_2017_WStest_13TeV,frac_g1_TTH_2017_WStest_13TeV,frac_g0_TTH_2017_WStest_13TeV) ] = 0.0739304\n",
      "RooRecursiveFraction::hggpdfsmrel_TTH_2017_WStest_13TeV_recursive_fraction_gaus_g3_TTH_2017_WStest_13TeV[ list=(frac_g3_TTH_2017_WStest_13TeV,frac_g2_TTH_2017_WStest_13TeV,frac_g1_TTH_2017_WStest_13TeV,frac_g0_TTH_2017_WStest_13TeV) ] = 0.0680936\n",
      "RooRecursiveFraction::hggpdfsmrel_TTH_2017_WStest_13TeV_recursive_fraction_gaus_g4_TTH_2017_WStest_13TeV[ list=(1,frac_g3_TTH_2017_WStest_13TeV,frac_g2_TTH_2017_WStest_13TeV,frac_g1_TTH_2017_WStest_13TeV,frac_g0_TTH_2017_WStest_13TeV) ] = 0.00595801\n",
      "RooRecursiveFraction::hggpdfsmrel_VBF_2017_WStest_13TeV_recursive_fraction_gaus_g1_VBF_2017_WStest_13TeV[ list=(1,frac_g0_VBF_2017_WStest_13TeV) ] = 0.277051\n",
      "RooRecursiveFraction::hggpdfsmrel_VH_2017_WStest_13TeV_recursive_fraction_gaus_g1_VH_2017_WStest_13TeV[ list=(frac_g1_VH_2017_WStest_13TeV,frac_g0_VH_2017_WStest_13TeV) ] = 0.319193\n",
      "RooRecursiveFraction::hggpdfsmrel_VH_2017_WStest_13TeV_recursive_fraction_gaus_g2_VH_2017_WStest_13TeV[ list=(1,frac_g1_VH_2017_WStest_13TeV,frac_g0_VH_2017_WStest_13TeV) ] = 0.227932\n",
      "RooFormulaVar::mean_g0_GG2H_2017_WStest_13TeV[ actualVars=(MH,dm_g0_GG2H_2017_WStest_13TeV) formula=\"(@0+@1)\" ] = 129.902\n",
      "RooFormulaVar::mean_g0_TTH_2017_WStest_13TeV[ actualVars=(MH,dm_g0_TTH_2017_WStest_13TeV) formula=\"(@0+@1)\" ] = 129.84\n",
      "RooFormulaVar::mean_g0_VBF_2017_WStest_13TeV[ actualVars=(MH,dm_g0_VBF_2017_WStest_13TeV) formula=\"(@0+@1)\" ] = 129.791\n",
      "RooFormulaVar::mean_g0_VH_2017_WStest_13TeV[ actualVars=(MH,dm_g0_VH_2017_WStest_13TeV) formula=\"(@0+@1)\" ] = 129.93\n",
      "RooFormulaVar::mean_g1_GG2H_2017_WStest_13TeV[ actualVars=(MH,dm_g1_GG2H_2017_WStest_13TeV) formula=\"(@0+@1)\" ] = 129.351\n",
      "RooFormulaVar::mean_g1_TTH_2017_WStest_13TeV[ actualVars=(MH,dm_g1_TTH_2017_WStest_13TeV) formula=\"(@0+@1)\" ] = 129.255\n",
      "RooFormulaVar::mean_g1_VBF_2017_WStest_13TeV[ actualVars=(MH,dm_g1_VBF_2017_WStest_13TeV) formula=\"(@0+@1)\" ] = 128.349\n",
      "RooFormulaVar::mean_g1_VH_2017_WStest_13TeV[ actualVars=(MH,dm_g1_VH_2017_WStest_13TeV) formula=\"(@0+@1)\" ] = 129.577\n",
      "RooFormulaVar::mean_g2_GG2H_2017_WStest_13TeV[ actualVars=(MH,dm_g2_GG2H_2017_WStest_13TeV) formula=\"(@0+@1)\" ] = 129.485\n",
      "RooFormulaVar::mean_g2_TTH_2017_WStest_13TeV[ actualVars=(MH,dm_g2_TTH_2017_WStest_13TeV) formula=\"(@0+@1)\" ] = 129.96\n",
      "RooFormulaVar::mean_g2_VH_2017_WStest_13TeV[ actualVars=(MH,dm_g2_VH_2017_WStest_13TeV) formula=\"(@0+@1)\" ] = 128.319\n",
      "RooFormulaVar::mean_g3_GG2H_2017_WStest_13TeV[ actualVars=(MH,dm_g3_GG2H_2017_WStest_13TeV) formula=\"(@0+@1)\" ] = 127.067\n",
      "RooFormulaVar::mean_g3_TTH_2017_WStest_13TeV[ actualVars=(MH,dm_g3_TTH_2017_WStest_13TeV) formula=\"(@0+@1)\" ] = 125\n",
      "RooFormulaVar::mean_g4_TTH_2017_WStest_13TeV[ actualVars=(MH,dm_g4_TTH_2017_WStest_13TeV) formula=\"(@0+@1)\" ] = 133.475\n",
      "ProcessNormalization::n_exp_binWStest_2017_proc_ggH_2017_hgg[ thetaList=(lumi_13TeV) asymmThetaList=() otherFactorList=(r) ] = 41480\n",
      "ProcessNormalization::n_exp_binWStest_2017_proc_qqH_2017_hgg[ thetaList=(lumi_13TeV) asymmThetaList=() otherFactorList=(r) ] = 41480\n",
      "ProcessNormalization::n_exp_binWStest_2017_proc_ttH_2017_hgg[ thetaList=(lumi_13TeV) asymmThetaList=() otherFactorList=(r) ] = 41480\n",
      "ProcessNormalization::n_exp_binWStest_2017_proc_vH_2017_hgg[ thetaList=(lumi_13TeV) asymmThetaList=() otherFactorList=(r) ] = 41480\n",
      "RooProduct::n_exp_final_binWStest_2017_proc_bkg_mass[ n_exp_binWStest_2017_proc_bkg_mass * shapeBkg_bkg_mass_WStest_2017__norm ] = 318710\n",
      "RooProduct::n_exp_final_binWStest_2017_proc_ggH_2017_hgg[ n_exp_binWStest_2017_proc_ggH_2017_hgg * shapeSig_ggH_2017_hgg_WStest_2017__norm ] = 1450.71\n",
      "RooProduct::n_exp_final_binWStest_2017_proc_qqH_2017_hgg[ n_exp_binWStest_2017_proc_qqH_2017_hgg * shapeSig_qqH_2017_hgg_WStest_2017__norm ] = 122.332\n",
      "RooProduct::n_exp_final_binWStest_2017_proc_ttH_2017_hgg[ n_exp_binWStest_2017_proc_ttH_2017_hgg * shapeSig_ttH_2017_hgg_WStest_2017__norm ] = 14.6705\n",
      "RooProduct::n_exp_final_binWStest_2017_proc_vH_2017_hgg[ n_exp_binWStest_2017_proc_vH_2017_hgg * shapeSig_vH_2017_hgg_WStest_2017__norm ] = 59.4424\n",
      "RooFormulaVar::rate_GG2H_2017_WStest_13TeV[ actualVars=() formula=\"(1.)\" ] = 1\n",
      "RooFormulaVar::rate_TTH_2017_WStest_13TeV[ actualVars=() formula=\"(1.)\" ] = 1\n",
      "RooFormulaVar::rate_VBF_2017_WStest_13TeV[ actualVars=() formula=\"(1.)\" ] = 1\n",
      "RooFormulaVar::rate_VH_2017_WStest_13TeV[ actualVars=() formula=\"(1.)\" ] = 1\n",
      "RooFormulaVar::shapeSig_ggH_2017_hgg_WStest_2017__norm[ actualVars=(fxs_GG2H_13TeV,fbr_13TeV,fea_GG2H_2017_WStest_13TeV,rate_GG2H_2017_WStest_13TeV) formula=\"@0*@1*@2*@3\" ] = 0.0349738\n",
      "RooFormulaVar::shapeSig_qqH_2017_hgg_WStest_2017__norm[ actualVars=(fxs_VBF_13TeV,fbr_13TeV,fea_VBF_2017_WStest_13TeV,rate_VBF_2017_WStest_13TeV) formula=\"@0*@1*@2*@3\" ] = 0.00294917\n",
      "RooFormulaVar::shapeSig_ttH_2017_hgg_WStest_2017__norm[ actualVars=(fxs_TTH_13TeV,fbr_13TeV,fea_TTH_2017_WStest_13TeV,rate_TTH_2017_WStest_13TeV) formula=\"@0*@1*@2*@3\" ] = 0.000353676\n",
      "RooFormulaVar::shapeSig_vH_2017_hgg_WStest_2017__norm[ actualVars=(fxs_VH_13TeV,fbr_13TeV,fea_VH_2017_WStest_13TeV,rate_VH_2017_WStest_13TeV) formula=\"@0*@1*@2*@3\" ] = 0.00143304\n",
      "RooSpline1D::sigma_fit_g0_GG2H_2017_WStest_13TeV[ xvar=MH ] = 1.27784\n",
      "RooSpline1D::sigma_fit_g0_TTH_2017_WStest_13TeV[ xvar=MH ] = 1.36635\n",
      "RooSpline1D::sigma_fit_g0_VBF_2017_WStest_13TeV[ xvar=MH ] = 1.51888\n",
      "RooSpline1D::sigma_fit_g0_VH_2017_WStest_13TeV[ xvar=MH ] = 1.25176\n",
      "RooSpline1D::sigma_fit_g1_GG2H_2017_WStest_13TeV[ xvar=MH ] = 2.53038\n",
      "RooSpline1D::sigma_fit_g1_TTH_2017_WStest_13TeV[ xvar=MH ] = 2.39472\n",
      "RooSpline1D::sigma_fit_g1_VBF_2017_WStest_13TeV[ xvar=MH ] = 3.63398\n",
      "RooSpline1D::sigma_fit_g1_VH_2017_WStest_13TeV[ xvar=MH ] = 2.02675\n",
      "RooSpline1D::sigma_fit_g2_GG2H_2017_WStest_13TeV[ xvar=MH ] = 2.39369\n",
      "RooSpline1D::sigma_fit_g2_TTH_2017_WStest_13TeV[ xvar=MH ] = 0.744172\n",
      "RooSpline1D::sigma_fit_g2_VH_2017_WStest_13TeV[ xvar=MH ] = 3.55417\n",
      "RooSpline1D::sigma_fit_g3_GG2H_2017_WStest_13TeV[ xvar=MH ] = 4.64801\n",
      "RooSpline1D::sigma_fit_g3_TTH_2017_WStest_13TeV[ xvar=MH ] = 5.99854\n",
      "RooSpline1D::sigma_fit_g4_TTH_2017_WStest_13TeV[ xvar=MH ] = 10\n",
      "RooFormulaVar::sigma_g0_GG2H_2017_WStest_13TeV[ actualVars=(sigma_fit_g0_GG2H_2017_WStest_13TeV) formula=\"@0\" ] = 1.27784\n",
      "RooFormulaVar::sigma_g0_TTH_2017_WStest_13TeV[ actualVars=(sigma_fit_g0_TTH_2017_WStest_13TeV) formula=\"@0\" ] = 1.36635\n",
      "RooFormulaVar::sigma_g0_VBF_2017_WStest_13TeV[ actualVars=(sigma_fit_g0_VBF_2017_WStest_13TeV) formula=\"@0\" ] = 1.51888\n",
      "RooFormulaVar::sigma_g0_VH_2017_WStest_13TeV[ actualVars=(sigma_fit_g0_VH_2017_WStest_13TeV) formula=\"@0\" ] = 1.25176\n",
      "RooFormulaVar::sigma_g1_GG2H_2017_WStest_13TeV[ actualVars=(sigma_fit_g1_GG2H_2017_WStest_13TeV) formula=\"@0\" ] = 2.53038\n",
      "RooFormulaVar::sigma_g1_TTH_2017_WStest_13TeV[ actualVars=(sigma_fit_g1_TTH_2017_WStest_13TeV) formula=\"@0\" ] = 2.39472\n",
      "RooFormulaVar::sigma_g1_VBF_2017_WStest_13TeV[ actualVars=(sigma_fit_g1_VBF_2017_WStest_13TeV) formula=\"@0\" ] = 3.63398\n",
      "RooFormulaVar::sigma_g1_VH_2017_WStest_13TeV[ actualVars=(sigma_fit_g1_VH_2017_WStest_13TeV) formula=\"@0\" ] = 2.02675\n",
      "RooFormulaVar::sigma_g2_GG2H_2017_WStest_13TeV[ actualVars=(sigma_fit_g2_GG2H_2017_WStest_13TeV) formula=\"@0\" ] = 2.39369\n",
      "RooFormulaVar::sigma_g2_TTH_2017_WStest_13TeV[ actualVars=(sigma_fit_g2_TTH_2017_WStest_13TeV) formula=\"@0\" ] = 0.744172\n",
      "RooFormulaVar::sigma_g2_VH_2017_WStest_13TeV[ actualVars=(sigma_fit_g2_VH_2017_WStest_13TeV) formula=\"@0\" ] = 3.55417\n",
      "RooFormulaVar::sigma_g3_GG2H_2017_WStest_13TeV[ actualVars=(sigma_fit_g3_GG2H_2017_WStest_13TeV) formula=\"@0\" ] = 4.64801\n",
      "RooFormulaVar::sigma_g3_TTH_2017_WStest_13TeV[ actualVars=(sigma_fit_g3_TTH_2017_WStest_13TeV) formula=\"@0\" ] = 5.99854\n",
      "RooFormulaVar::sigma_g4_TTH_2017_WStest_13TeV[ actualVars=(sigma_fit_g4_TTH_2017_WStest_13TeV) formula=\"@0\" ] = 10\n",
      "\n",
      "datasets\n",
      "--------\n",
      "RooDataSet::data_obs(CMS_hgg_mass,CMS_channel)\n",
      "\n",
      "named sets\n",
      "----------\n",
      "ModelConfig_GlobalObservables:(lumi_13TeV_In)\n",
      "ModelConfig_NuisParams:(lumi_13TeV)\n",
      "ModelConfig_Observables:(CMS_hgg_mass,CMS_channel)\n",
      "ModelConfig_POI:(r)\n",
      "ModelConfig_bonly_GlobalObservables:(lumi_13TeV_In)\n",
      "ModelConfig_bonly_NuisParams:(lumi_13TeV)\n",
      "ModelConfig_bonly_Observables:(CMS_hgg_mass,CMS_channel)\n",
      "ModelConfig_bonly_POI:(r)\n",
      "POI:(r)\n",
      "globalObservables:(lumi_13TeV_In)\n",
      "nuisances:(lumi_13TeV)\n",
      "observables:(CMS_hgg_mass,CMS_channel)\n",
      "\n",
      "generic objects\n",
      "---------------\n",
      "RooStats::ModelConfig::ModelConfig\n",
      "RooStats::ModelConfig::ModelConfig_bonly\n",
      "RooArgSet::discreteParams\n",
      "\n"
     ]
    }
   ],
   "source": [
    "f   = ROOT.TFile.Open(\"Datacard_mu_inclusive_test.root\")\n",
    "w = f.Get(\"w\")\n",
    "w.Print()"
   ]
  },
  {
   "cell_type": "code",
   "execution_count": 4,
   "metadata": {},
   "outputs": [
    {
     "name": "stdout",
     "output_type": "stream",
     "text": [
      "RooCategory::CMS_channel = WStest_2017(idx = 0)\n",
      "\n"
     ]
    }
   ],
   "source": [
    "CMS_channel = w.arg(\"CMS_channel\")\n",
    "CMS_channel.Print()"
   ]
  },
  {
   "cell_type": "code",
   "execution_count": 5,
   "metadata": {},
   "outputs": [
    {
     "name": "stdout",
     "output_type": "stream",
     "text": [
      "RooRealVar::env_pdf_0_2017_13TeV_bern5_p0 = 0.503314 +/- 0.0133436  L(-15 - 15) \n",
      "RooRealVar::env_pdf_0_2017_13TeV_bern5_p1 = 0.573492 +/- 0.0141147  L(-15 - 15) \n",
      "RooRealVar::env_pdf_0_2017_13TeV_bern5_p2 = 0.258121 +/- 0.0268914  L(-15 - 15) \n",
      "RooRealVar::env_pdf_0_2017_13TeV_bern5_p3 = 0.350928 +/- 0.00886633  L(-15 - 15) \n",
      "RooRealVar::env_pdf_0_2017_13TeV_bern5_p4 = 0.248835 +/- 0.00341707  L(-15 - 15) \n",
      "RooRealVar::env_pdf_0_2017_13TeV_bern5_p0 = 0.503314 +/- 0.0133436  L(-15 - 15) \n",
      "RooRealVar::env_pdf_0_2017_13TeV_bern5_p1 = 0.573492 +/- 0.0141147  L(-15 - 15) \n",
      "RooRealVar::env_pdf_0_2017_13TeV_bern5_p2 = 0.258121 +/- 0.0268914  L(-15 - 15) \n",
      "RooRealVar::env_pdf_0_2017_13TeV_bern5_p3 = 0.350928 +/- 0.00886633  L(-15 - 15) \n",
      "RooRealVar::env_pdf_0_2017_13TeV_bern5_p4 = 0.248835 +/- 0.00341707  L(-15 - 15) \n"
     ]
    }
   ],
   "source": [
    "for i in range(5):\n",
    "    bern5_p = w.var(\"env_pdf_0_2017_13TeV_bern5_p%d\" % i)\n",
    "    bern5_p.Print()\n",
    "for i in range(5):\n",
    "    bern5_p = w.var(\"env_pdf_0_2017_13TeV_bern5_p%d\" % i)\n",
    "    #bern5_p.setConstant(True)\n",
    "    bern5_p.Print()\n"
   ]
  },
  {
   "cell_type": "code",
   "execution_count": 6,
   "metadata": {},
   "outputs": [
    {
     "name": "stdout",
     "output_type": "stream",
     "text": [
      "RooRealVar::env_pdf_0_2017_13TeV_exp3_p1 = -0.0679454 +/- 0.00528964  L(-1 - 0) \n",
      "RooRealVar::env_pdf_0_2017_13TeV_exp3_p2 = -0.0264914 +/- 0.00124258  L(-1 - 0) \n",
      "RooRealVar::env_pdf_0_2017_13TeV_exp3_p1 = -0.0679454 +/- 0.00528964  L(-1 - 1) \n",
      "RooRealVar::env_pdf_0_2017_13TeV_exp3_p2 = -0.0264914 +/- 0.00124258  L(-1 - 1) \n",
      "RooRealVar::env_pdf_0_2017_13TeV_exp3_f1 = 0.279014 +/- 0.0529159  L(-1 - 2) \n"
     ]
    }
   ],
   "source": [
    "for i in range(1,3):\n",
    "    exp_p = w.var(\"env_pdf_0_2017_13TeV_exp3_p%d\" % i)\n",
    "    exp_p.Print()\n",
    "for i in range(1,3):\n",
    "    exp_p = w.var(\"env_pdf_0_2017_13TeV_exp3_p%d\" % i)\n",
    "    exp_p.setRange(-1, 1)\n",
    "    exp_p.setConstant(False)\n",
    "    exp_p.Print()\n",
    "exp3_f1 = w.var(\"env_pdf_0_2017_13TeV_exp3_f1\")\n",
    "exp3_f1.setRange(-1, 2)\n",
    "exp3_f1.setConstant(False)\n",
    "exp3_f1.Print()\n"
   ]
  },
  {
   "cell_type": "code",
   "execution_count": 7,
   "metadata": {},
   "outputs": [
    {
     "name": "stdout",
     "output_type": "stream",
     "text": [
      "RooRealVar::env_pdf_0_2017_13TeV_lau1_l1 = 0.409632 +/- 0.0115356 C  L(-1 - 2) \n"
     ]
    }
   ],
   "source": [
    "lau1_l1 = w.var(\"env_pdf_0_2017_13TeV_lau1_l1\")\n",
    "lau1_l1.setRange(-1,2)\n",
    "lau1_l1.setConstant(True)\n",
    "lau1_l1.Print()"
   ]
  },
  {
   "cell_type": "code",
   "execution_count": 8,
   "metadata": {},
   "outputs": [
    {
     "name": "stdout",
     "output_type": "stream",
     "text": [
      "RooRealVar::shapeBkg_bkg_mass_WStest_2017__norm = 318710  L(0 - 956130) \n",
      "RooRealVar::shapeBkg_bkg_mass_WStest_2017__norm = 318710  L(0 - 1e+06) \n"
     ]
    }
   ],
   "source": [
    "norm = w.var(\"shapeBkg_bkg_mass_WStest_2017__norm\")\n",
    "norm.Print()\n",
    "norm.setConstant(False)\n",
    "norm.setRange(0.,1000000)\n",
    "norm.Print()"
   ]
  },
  {
   "cell_type": "code",
   "execution_count": 9,
   "metadata": {},
   "outputs": [
    {
     "name": "stdout",
     "output_type": "stream",
     "text": [
      "RooRealVar::env_pdf_0_2017_13TeV_pow1_p1 = -4.57694 +/- 0.0115814  L(-9 - 1) \n",
      "RooRealVar::env_pdf_0_2017_13TeV_pow1_p1 = -4.57694 +/- 0.0115814  L(-9 - 1) \n"
     ]
    }
   ],
   "source": [
    "pow1_p1 = w.var(\"env_pdf_0_2017_13TeV_pow1_p1\")\n",
    "pow1_p1.Print()\n",
    "pow1_p1.setConstant(False)\n",
    "pow1_p1.Print()"
   ]
  },
  {
   "cell_type": "code",
   "execution_count": 20,
   "metadata": {},
   "outputs": [
    {
     "name": "stdout",
     "output_type": "stream",
     "text": [
      "RooRealVar::MH = 130  L(120 - 130) B(10) // [GeV]\n",
      "RooRealVar::MH = 120  L(120 - 130) B(10) // [GeV]\n",
      "RooRealVar::MH = 120  L(120 - 130) B(10) // [GeV]\n"
     ]
    }
   ],
   "source": [
    "MH = w.var(\"MH\")\n",
    "MH.Print()\n",
    "MH.setVal(125)\n",
    "MH.Print()\n",
    "MH.setConstant(False)\n",
    "MH.Print()"
   ]
  },
  {
   "cell_type": "code",
   "execution_count": 21,
   "metadata": {},
   "outputs": [
    {
     "name": "stdout",
     "output_type": "stream",
     "text": [
      "RooSpline1D::fea_GG2H_2017_WStest_13TeV[ xvar=MH ] = 0.321681\n",
      "RooSpline1D::fxs_TTH_13TeV[ xvar=MH ] = 0.51\n"
     ]
    }
   ],
   "source": [
    "fea_GG2H_2017_WStest_13TeV = w.arg(\"fea_GG2H_2017_WStest_13TeV\")\n",
    "fea_GG2H_2017_WStest_13TeV.Print()\n",
    "fxs_TTH_13TeV = w.arg(\"fxs_TTH_13TeV\")\n",
    "fxs_TTH_13TeV.Print()"
   ]
  },
  {
   "cell_type": "code",
   "execution_count": 29,
   "metadata": {},
   "outputs": [
    {
     "data": {
      "text/plain": [
       "False"
      ]
     },
     "execution_count": 29,
     "metadata": {},
     "output_type": "execute_result"
    }
   ],
   "source": [
    "w.writeToFile(\"Datacard_mu_inclusive_test.root\")"
   ]
  },
  {
   "cell_type": "code",
   "execution_count": 50,
   "metadata": {},
   "outputs": [
    {
     "data": {
      "text/plain": [
       "2153.02"
      ]
     },
     "execution_count": 50,
     "metadata": {},
     "output_type": "execute_result"
    }
   ],
   "source": [
    "51.88*41.5\n"
   ]
  },
  {
   "cell_type": "code",
   "execution_count": 51,
   "metadata": {},
   "outputs": [
    {
     "data": {
      "image/png": "[encoded data removed]",
      "text/plain": [
       "<IPython.core.display.Image object>"
      ]
     },
     "metadata": {},
     "output_type": "display_data"
    }
   ],
   "source": [
    "c = ROOT.TCanvas()\n",
    "shapes.Draw(\"AP\")\n",
    "c.Draw()"
   ]
  },
  {
   "cell_type": "code",
   "execution_count": 52,
   "metadata": {},
   "outputs": [
    {
     "name": "stdout",
     "output_type": "stream",
     "text": [
      "\n",
      "RooWorkspace(cms_hgg_13TeV) cms_hgg_13TeV contents\n",
      "\n",
      "variables\n",
      "---------\n",
      "(CMS_hgg_mass,centralObjectWeight,intLumi,weight)\n",
      "\n",
      "datasets\n",
      "--------\n",
      "RooDataSet::Data_13TeV_WStest(CMS_hgg_mass,centralObjectWeight)\n",
      "\n",
      "RooRealVar::SqrtS = 13 C  L(-INF - +INF) // [TeV]\n",
      "RooRealVar::intLumi = 1000 C  L(0 - 1e+09) \n",
      "RooRealVar::CMS_hgg_mass = 122.788  L(100 - 180) B(160) \n",
      "RooRealVar::CMS_hgg_WStest_2017_13TeV_bkgshape_norm = 1  L(0 - +INF) \n"
     ]
    }
   ],
   "source": [
    "f2   = ROOT.TFile.Open(\"../../flashggFinalFit/higgs_dna_signals_2017/allData_2017.root\")\n",
    "win = f2.Get(\"tagsDumper/cms_hgg_13TeV\")\n",
    "#sQr  = ROOT.RooRealVar(\"SqrtS\", \"SqrtS in TeV\", 13, -ROOT.RooNumber.infinity(), ROOT.RooNumber.infinity())\n",
    "sQr  = ROOT.RooRealVar(\"SqrtS\", \"SqrtS in TeV\", 13, \"TeV\")\n",
    "intL = win.var(\"intLumi\")\n",
    "mass = win.var(\"CMS_hgg_mass\")\n",
    "win.Print()\n",
    "sQr.Print()\n",
    "intL.Print()\n",
    "mass.Print()\n",
    "norm = ROOT.RooRealVar(\"CMS_hgg_WStest_2017_13TeV_bkgshape_norm\", \"normalization\", 1, 0, ROOT.RooNumber.infinity())\n",
    "norm.Print()"
   ]
  },
  {
   "cell_type": "code",
   "execution_count": 98,
   "metadata": {},
   "outputs": [
    {
     "name": "stdout",
     "output_type": "stream",
     "text": [
      "RooRealVar::CMS_hgg_WStest_2017_13TeV_bkgshape_norm = 318710  L(0 - +INF) \n"
     ]
    },
    {
     "name": "stderr",
     "output_type": "stream",
     "text": [
      "Warning in <TFile::Append>: Replacing existing TH1: h_data__CMS_hgg_mass (Potential memory leak).\n"
     ]
    },
    {
     "data": {
      "image/png": "[encoded data removed]",
      "text/plain": [
       "<IPython.core.display.Image object>"
      ]
     },
     "metadata": {},
     "output_type": "display_data"
    }
   ],
   "source": [
    "frame = mass.frame()\n",
    "data = win.data(\"Data_13TeV_WStest\")\n",
    "blind_data = data.reduce(ROOT.RooArgSet(mass), \"CMS_hgg_mass>135||CMS_hgg_mass<115\")\n",
    "dh = ROOT.RooDataHist(\"Data_13TeV_WStest\", \"Data_13TeV_WStest\", ROOT.RooArgSet(mass), data)\n",
    "datahist= dh.createHistogram(\"h_data\",mass,ROOT.RooFit.Binning(160))\n",
    "#datahist.Scale(shapes.Integral(0,160)/dh.sum(True,False))\n",
    "c = ROOT.TCanvas()\n",
    "datahist.SetLineColor(ROOT.kRed)\n",
    "datahist.Rebin(2)\n",
    "datahist.Draw(\"SAMEHIST\")\n",
    "#frame.Draw(\"SAME\")\n",
    "shapes.SetLineColor(ROOT.kBlue)\n",
    "shapes.Draw(\"SAMEHIST\")\n",
    "c.Draw()\n",
    "norm.setVal(dh.sum(False,False))\n",
    "norm.Print()"
   ]
  },
  {
   "cell_type": "code",
   "execution_count": 95,
   "metadata": {},
   "outputs": [
    {
     "data": {
      "text/plain": [
       "159355.0"
      ]
     },
     "execution_count": 95,
     "metadata": {},
     "output_type": "execute_result"
    }
   ],
   "source": [
    "dh.sumEntries()\n",
    "dh.sum(True,False)"
   ]
  },
  {
   "cell_type": "code",
   "execution_count": 96,
   "metadata": {},
   "outputs": [
    {
     "data": {
      "text/plain": [
       "236490.0"
      ]
     },
     "execution_count": 96,
     "metadata": {},
     "output_type": "execute_result"
    }
   ],
   "source": [
    "shapes.Integral(0,160)"
   ]
  },
  {
   "cell_type": "code",
   "execution_count": 97,
   "metadata": {},
   "outputs": [
    {
     "name": "stdout",
     "output_type": "stream",
     "text": [
      "318277.0\n"
     ]
    }
   ],
   "source": [
    "sum = 0\n",
    "for i in range(1,160):\n",
    "    sum += datahist[i]\n",
    "print(sum)"
   ]
  },
  {
   "cell_type": "code",
   "execution_count": 119,
   "metadata": {},
   "outputs": [
    {
     "data": {
      "image/png": "[encoded data removed]",
      "text/plain": [
       "<IPython.core.display.Image object>"
      ]
     },
     "metadata": {},
     "output_type": "display_data"
    }
   ],
   "source": [
    "frame = mass.frame()\n",
    "c = ROOT.TCanvas()\n",
    "c.SetCanvasSize(2000,1500)\n",
    "c.SetBottomMargin(0.12)\n",
    "#w_fit.plotOn(frame)\n",
    "w_fit.GetXaxis().SetTitleSize(0.05)\n",
    "w_fit.GetXaxis().SetLabelSize(0.03)\n",
    "w_fit.GetYaxis().SetTitleSize(0.04)\n",
    "w_fit.GetYaxis().SetLabelSize(0.03)\n",
    "w_fit.Draw()\n",
    "#frame.Draw()\n",
    "c.Draw()"
   ]
  },
  {
   "cell_type": "code",
   "execution_count": null,
   "metadata": {},
   "outputs": [],
   "source": []
  }
 ],
 "metadata": {
  "kernelspec": {
   "display_name": "Python 2",
   "language": "python",
   "name": "python2"
  },
  "language_info": {
   "codemirror_mode": {
    "name": "ipython",
    "version": 2
   },
   "file_extension": ".py",
   "mimetype": "text/x-python",
   "name": "python",
   "nbconvert_exporter": "python",
   "pygments_lexer": "ipython2",
   "version": "2.7.14+"
  },
  "orig_nbformat": 4
 },
 "nbformat": 4,
 "nbformat_minor": 2
}
